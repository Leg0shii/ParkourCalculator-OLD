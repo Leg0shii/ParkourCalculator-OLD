{
  "nbformat": 4,
  "nbformat_minor": 0,
  "metadata": {
    "colab": {
      "provenance": []
    },
    "kernelspec": {
      "name": "python3",
      "display_name": "Python 3"
    }
  },
  "cells": [
    {
      "cell_type": "code",
      "metadata": {
        "id": "iM1YafoKMC22"
      },
      "source": [
        "from math import *\n",
        "from itertools import *\n",
        "import numpy as np\n",
        "import matplotlib as mp\n",
        "import matplotlib.pyplot as plt"
      ],
      "execution_count": null,
      "outputs": []
    },
    {
      "cell_type": "code",
      "metadata": {
        "id": "Ft0XmJMGI-Oh"
      },
      "source": [
        "# inputs: [w,a,s,d,space,sprint,shift]\n",
        "def changeFacingX(facing):\n",
        "  if facing < -45 and facing > -135:\n",
        "    return\n",
        "\n",
        "def isJumping(inputs, isGround):\n",
        "  if \"space\" in inputs and isGround:\n",
        "    return True\n",
        "\n",
        "  return False\n",
        "\n",
        "def getDirection(inputs):\n",
        "\n",
        "  if \"w\" in inputs:\n",
        "    if \"a\" in inputs:\n",
        "      if \"s\" in inputs:\n",
        "        return 90\n",
        "      if \"d\" in inputs:\n",
        "        return 0\n",
        "      return 45\n",
        "    if \"s\" in inputs:\n",
        "      if \"a\" in inputs:\n",
        "        return 90\n",
        "      if \"d\" in inputs:\n",
        "        return -90\n",
        "      return 0\n",
        "    if \"d\" in inputs:\n",
        "      return -45\n",
        "\n",
        "  if \"a\" in inputs:\n",
        "    if \"s\" in inputs:\n",
        "      if \"d\" in inputs:\n",
        "        return 180\n",
        "      return 135\n",
        "    if \"d\" in inputs:\n",
        "      return 0\n",
        "    return 90\n",
        "\n",
        "  if \"s\" in inputs:\n",
        "    if \"d\" in inputs:\n",
        "      return -135\n",
        "    return -180\n",
        "\n",
        "  if \"w\" in inputs:\n",
        "    return 0\n",
        "\n",
        "  return -90\n",
        "\n",
        "def direction(facing):\n",
        "\n",
        "  if \"space\" in inputs and isGround:\n",
        "    return True\n",
        "\n",
        "  return False\n",
        "\n",
        "def isSprinting(inputs):\n",
        "\n",
        "  if \"w\" in inputs and \"sprint\" in inputs and \"sneak\" not in inputs:\n",
        "    if \"w\" in inputs and not \"s\" in inputs:\n",
        "      return 0.2\n",
        "\n",
        "  return 0\n",
        "\n",
        "def isStrafing(inputs):\n",
        "\n",
        "  if (\"a\" in inputs and \"d\" in inputs and (\"w\" in inputs or \"s\" in inputs)):\n",
        "    return 0.98\n",
        "\n",
        "  if (\"a\" in inputs and (\"s\" in inputs and \"w\" not in inputs)\n",
        "  or (\"d\" in inputs and (\"s\" in inputs and \"w\" not in inputs))\n",
        "  or (\"a\" in inputs and (\"w\" in inputs and \"s\" not in inputs))\n",
        "  or (\"d\" in inputs and (\"w\" in inputs and \"s\" not in inputs))):\n",
        "    return 1.0\n",
        "\n",
        "  return 0.98\n",
        "\n",
        "def isMoving(inputs):\n",
        "  if \"w\" in inputs and \"a\" in inputs and \"s\" in inputs and \"d\" in inputs:\n",
        "    return False\n",
        "\n",
        "  if \"w\" in inputs and \"s\" in inputs and not (\"a\" in inputs or \"d\" in inputs):\n",
        "    return False\n",
        "\n",
        "  if \"a\" in inputs and \"d\" in inputs and not (\"w\" in inputs or \"s\" in inputs):\n",
        "    return False\n",
        "\n",
        "  return True\n",
        "\n",
        "def getMovementType(inputs):\n",
        "\n",
        "  if \"w\" in inputs and \"sprint\" in inputs and \"sneak\" not in inputs and \"s\" not in inputs:\n",
        "    return 1.3 * isStrafing(inputs)\n",
        "\n",
        "  if \"sneak\" in inputs and (\"w\" in inputs or \"a\" in inputs or \"s\" in inputs or \"d\" in inputs):\n",
        "    return 0.3 * isStrafing(inputs)\n",
        "\n",
        "  if \"w\" not in inputs and \"a\" not in inputs and \"s\" not in inputs and \"d\" not in inputs:\n",
        "    return 0.0\n",
        "\n",
        "  return 1.0 * isStrafing(inputs)\n",
        "\n",
        "\n",
        "def calcX(veloBefore, slipBefore, slipCurrent, facing, isGround, inputs):\n",
        "\n",
        "  if not isMoving(inputs):\n",
        "    return 0\n",
        "\n",
        "  if isGround and not isJumping(inputs, isGround):\n",
        "    momentum = veloBefore * slipBefore * 0.91 + 0.1 * getMovementType(inputs) * 1.0 * (0.6/slipCurrent)**3 * sin(radians(getDirection(inputs)+(facing*-1)))\n",
        "    return momentum\n",
        "\n",
        "  if isJumping(inputs, isGround):\n",
        "    momentum = veloBefore * slipBefore * 0.91 + 0.1 * getMovementType(inputs) * 1.0 * (0.6/slipCurrent)**3 * sin(radians(getDirection(inputs)+(facing*-1)))\n",
        "    momentum = momentum + sin(radians((facing*-1))) * isSprinting(inputs)\n",
        "    return momentum\n",
        "\n",
        "  momentum = veloBefore * slipBefore * 0.91 + 0.02 * getMovementType(inputs) * sin(radians(getDirection(inputs)+(facing*-1)))\n",
        "  return momentum\n",
        "\n",
        "\n",
        "def calcZ(veloBefore, slipBefore, slipCurrent, facing, isGround, inputs):\n",
        "\n",
        "  if not isMoving(inputs):\n",
        "    return 0\n",
        "\n",
        "  if isGround and not isJumping(inputs, isGround):\n",
        "    momentum = veloBefore * slipBefore * 0.91 + 0.1 * getMovementType(inputs) * 1.0 * (0.6/slipCurrent)**3 * cos(radians(getDirection(inputs)+(facing*-1)))\n",
        "    return momentum\n",
        "\n",
        "  if isJumping(inputs, isGround):\n",
        "    momentum = veloBefore * slipBefore * 0.91 + 0.1 * getMovementType(inputs) * 1.0 * (0.6/slipCurrent)**3 * cos(radians(getDirection(inputs)+(facing*-1)))\n",
        "    momentum = momentum + cos(radians((facing*-1))) * isSprinting(inputs)\n",
        "    return momentum\n",
        "\n",
        "  momentum = veloBefore * slipBefore * 0.91 + 0.02 * getMovementType(inputs) * cos(radians(getDirection(inputs)+(facing*-1)))\n",
        "  return momentum\n"
      ],
      "execution_count": null,
      "outputs": []
    },
    {
      "cell_type": "code",
      "metadata": {
        "id": "R4lnMsnUueB4"
      },
      "source": [
        "def drawForm(x1,z1,x2,z2):\n",
        "  object = [x1,z1,x2,z2]\n",
        "  plt.plot([x1,x2,x2,x1,x1], [z1,z1,z2,z2,z1], marker=\"o\", linestyle='-')\n",
        "  return object\n"
      ],
      "execution_count": null,
      "outputs": []
    },
    {
      "cell_type": "code",
      "metadata": {
        "id": "pQFWf59sBeC0"
      },
      "source": [
        "def possInputs(inputs):\n",
        "  count = 0\n",
        "  new_subset = []\n",
        "  for L in range(0, len(inputs)+1):\n",
        "    count = count + 1\n",
        "    for subset in combinations(inputs, L):\n",
        "      new_subset.append(subset)\n",
        "  return new_subset"
      ],
      "execution_count": null,
      "outputs": []
    },
    {
      "cell_type": "code",
      "metadata": {
        "id": "FbNyCRSql17I"
      },
      "source": [
        "def calcTickSpeed(speed, s1, s2, f, g, i, repeat):\n",
        "  repeater = 0\n",
        "  while repeater < repeat:\n",
        "    speedX = calcX(speed[2], s1, s2, f, g, i)\n",
        "    speedZ = calcZ(speed[3], s1, s2, f, g, i)\n",
        "    speed[0].append(speedX+speed[0][len(speed[0])-1])\n",
        "    speed[1].append(speedZ+speed[1][len(speed[1])-1])\n",
        "    speed[2] = speedX\n",
        "    speed[3] = speedZ\n",
        "    repeater += 1\n",
        "  return speed\n"
      ],
      "execution_count": null,
      "outputs": []
    },
    {
      "cell_type": "code",
      "metadata": {
        "colab": {
          "base_uri": "https://localhost:8080/",
          "height": 317
        },
        "id": "NW3d8p-HnS5M",
        "outputId": "450c06db-a99b-447f-efa6-f0f7c8d47607"
      },
      "source": [
        "speed = [[98.701],[102.170],0,0]\n",
        "facing = -135.4\n",
        "\n",
        "speed = calcTickSpeed(speed, 0.6, 0.6, facing, True, [\"w\",\"d\",\"sprint\",\"space\"],1) #1\n",
        "speed = calcTickSpeed(speed, 0.6, 1, facing, False, [\"w\",\"d\",\"sprint\"],1) #2\n",
        "speed = calcTickSpeed(speed, 1, 1, facing, False, [\"w\",\"d\",\"sprint\"],8) #3\n",
        "speed = calcTickSpeed(speed, 1, 1, facing, False, [\"w\",\"sprint\"],2)#11\n",
        "speed = calcTickSpeed(speed, 1, 0.6, facing, True, [\"w\",\"sprint\"],1)#13\n",
        "facing = facing - 28\n",
        "speed = calcTickSpeed(speed, 0.6, 0.6, facing, True, [\"w\",\"a\",\"space\",\"sprint\"],1)#14\n",
        "facing = 173\n",
        "speed = calcTickSpeed(speed, 0.6, 1, facing, False, [\"w\",\"a\",\"sprint\"],1)#15\n",
        "facing = facing - 29\n",
        "speed = calcTickSpeed(speed, 1, 1, facing, False, [\"w\",\"a\",\"sprint\"],9)#16\n",
        "\n",
        "\n",
        "# Plot the objects\n",
        "drawForm(98.700, 101.300, 101.300, 99.700)\n",
        "drawForm(98.700, 101.300, 101.300, 102.300)\n",
        "drawForm(98.700, 99.700, 101.300, 98.700)\n",
        "drawForm(101.300, 100.863, 101.800, 100.137)\n",
        "\n",
        "# Plot the path\n",
        "plt.plot(speed[0], speed[1], marker=\"o\", linestyle='-')\n",
        "#plt.xticks(ticks=[98,99,100,101])\n",
        "#plt.yticks(ticks=[98,99,100,101])\n",
        "plt.figure(figsize=(15,5))\n",
        "\n",
        "print(\"X_Before: \", (-1)*(speed[0][len(speed[0])-2]-101.3000))\n",
        "print(\"X_Landing: \", (-1)*(speed[0][len(speed[0])-1]-101.3000))\n",
        "\n",
        "# Display the plot in the window\n",
        "plt.show()"
      ],
      "execution_count": null,
      "outputs": [
        {
          "output_type": "stream",
          "name": "stdout",
          "text": [
            "X_Before:  -0.11674471137150988\n",
            "X_Landing:  0.018408126289187976\n"
          ]
        },
        {
          "output_type": "display_data",
          "data": {
            "text/plain": [
              "<Figure size 432x288 with 1 Axes>"
            ],
            "image/png": "[encoded data removed]"
          },
          "metadata": {
            "needs_background": "light"
          }
        },
        {
          "output_type": "display_data",
          "data": {
            "text/plain": [
              "<Figure size 1080x360 with 0 Axes>"
            ]
          },
          "metadata": {}
        }
      ]
    },
    {
      "cell_type": "markdown",
      "metadata": {
        "id": "9fqVIMVN6sKm"
      },
      "source": [
        "Possible Inputs in a tick. Assuming Fast Math and only a spectrum of 90°. (Seems like most jumps dont require more)\n",
        "Limiting bouding box + only allowing certain angleradius from current position to account for momentum canceling (which we dont want):\n",
        "Factor of ~3 less angles.\\\n",
        "Angles: $\\frac{4096}{4*3} = 341$\n",
        "\n",
        "**Possible inputs** optimization for **1 tick**:\\\n",
        "[[w,s],[a,d],[shift,r],space] => $3^3 *2^2 * 341 = 36828$ \\\n",
        " \\\n",
        "**Possible inputs** optimization for **1 tick in air**:\\\n",
        "[[w,s],[a,d],[shift,r]] => $3^3 * 341 = 9207$ \\\n",
        "\\\n",
        "**Possible inputs** optimization for **1t in air + sprint**: \\\n",
        "[[w,s],[a,d],r] => $3^2*2 * 341 = 6138$ \\\n",
        "\\\n",
        "**Possible inputs** optimization for **1t in air + sneak**: \\\n",
        "[[w,s],[a,d]] => $3^2 * 341 = 3069$ \\\n"
      ]
    },
    {
      "cell_type": "markdown",
      "metadata": {
        "id": "7q_xOvXslXiC"
      },
      "source": [
        "Stupid Testing:\n",
        "- 1.5072484 [w,a,d] for 7 ticks\n",
        "- 1.5072484 [w] for 7 ticks\n",
        "- 1.9594228  [w,a,d,sprint] for 7 ticks\n",
        "- 6.9725506 [w,a,d,sprint] for 17 ticks: 2 tick space, 14 tick space\n",
        "- 6.9725506 [w,sprint] for 17 ticks: 2 tick space, 14 tick space>\n",
        "\n"
      ]
    },
    {
      "cell_type": "code",
      "metadata": {
        "id": "qK4l5T43lYWE"
      },
      "source": [],
      "execution_count": null,
      "outputs": []
    }
  ]
}